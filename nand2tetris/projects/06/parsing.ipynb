{
 "cells": [
  {
   "cell_type": "markdown",
   "metadata": {},
   "source": [
    "## Parsing files with Python\n",
    "\n",
    "A major component of the Chapter 6 Assembler project involves writing a program that will\n",
    "\n",
    "* read a file,\n",
    "* ignore white space and comments in the file,\n",
    "* break each line, or command, in the file into mnemonics,\n",
    "* determine how the mnemonics map into various binary commands,\n",
    "* write the equivalent binary code to a second file.\n",
    "\n",
    "Because you may not have worked with this specific problem in your CSCI151 class, or because you may not remember that much Python, I've prepared this short notebook for you to study."
   ]
  },
  {
   "cell_type": "markdown",
   "metadata": {},
   "source": [
    "### Opening and reading a file\n",
    "\n",
    "First the `.asm` file has to be opened and read. This must be done with a Python script called `hasm.py` (hack assembler) that can accept a command line argument that specifies the assembly file (`.asm`) that you want to covert to binary code (`.hack`). The following code opens a file specified by a command line argument an reads it line by line. Specific features in this code include:\n",
    "\n",
    "* The `sys.argv` is a list containing each term that was typed at the command line. Individual list entries were separated by spaces at the command line.\n",
    "* There is error checking to see that only one source (`.asm`) file is specified by checking that the command line argument was `hasm.py filename` and that the filename exists and can be opened. \n",
    "* The `with` keyword in python is used, along with `try` and `except` to do error handling.\n",
    "* control is turned over to a function, `Pass1`, where the actual processing will take place. Later, this function should probably be moved to another file for clarity.\n",
    "* The `Pass1` function has been equipped with some basic comment processing and white space handling as follows:\n",
    "*`find('\\\\')` is used to get the location of the comment string `\\\\`. Python indexing is then used to eliminate parts of a line that follow the comment string.\n",
    "*`strip()` is used to remove all white space from the resulting line."
   ]
  },
  {
   "cell_type": "code",
   "execution_count": 1,
   "metadata": {
    "scrolled": true
   },
   "outputs": [
    {
     "name": "stdout",
     "output_type": "stream",
     "text": [
      "@2\n",
      "D=A\n",
      "@3\n",
      "D=D+A\n",
      "@0\n",
      "M=D\n"
     ]
    }
   ],
   "source": [
    "\n"
   ]
  },
  {
   "cell_type": "markdown",
   "metadata": {},
   "source": [
    "### Dictionaries\n",
    "The main construct for managing translation of assembly to binary will be the dictionary, or symbol table. Let us demonstrate how these will be used with an example, a dictionary of symbols associated with ROM and RAM addresses.\n"
   ]
  },
  {
   "cell_type": "code",
   "execution_count": 1,
   "metadata": {},
   "outputs": [
    {
     "name": "stdout",
     "output_type": "stream",
     "text": [
      "Is R3 in names_dict?  True\n",
      "Is i in names_dict?  False\n",
      "i 16\n"
     ]
    }
   ],
   "source": [
    "symbols = {\n",
    "         \"R0\" :  \"0\",\n",
    "         \"R1\" :  \"1\",\n",
    "         \"R2\" :  \"2\",\n",
    "         \"R3\" :  \"3\",\n",
    "         \"R4\" :  \"4\",\n",
    "         \"R5\" :  \"5\",\n",
    "         \"R6\" :  \"6\",\n",
    "         \"R7\" :  \"7\",\n",
    "         \"R8\" :  \"8\",\n",
    "         \"R9\" :  \"9\",\n",
    "         \"R10\" :  \"10\",\n",
    "         \"R11\" :  \"11\",\n",
    "         \"R12\" :  \"12\",\n",
    "         \"R13\" :  \"13\",\n",
    "         \"R14\" :  \"14\",\n",
    "         \"R15\" :  \"15\",\n",
    "         \"SCREEN\" : \"16384\",\n",
    "         \"KBD\" :  \"24576\",\n",
    "         \"SP\" : \"0\",\n",
    "         \"LCL\" :  \"1\",\n",
    "         \"ARG\" : \"2\",\n",
    "         \"THIS\" : \"3\",\n",
    "         \"THAT\" : \"4\"\n",
    "}\n",
    " \n",
    "# Test if an entry is present:\n",
    "print(\"Is R3 in names_dict? \",\"R3\" in symbols)\n",
    "print(\"Is i in names_dict? \",\"i\" in symbols)\n",
    "\n",
    "# Add i to names_dict:\n",
    "symbol = \"i\"\n",
    "next_RAM = 16\n",
    "symbols[symbol] = next_RAM\n",
    "next_RAM += 1\n",
    "\n",
    "# Print the value of \"i\"\n",
    "print(symbol,symbols[symbol])"
   ]
  },
  {
   "cell_type": "markdown",
   "metadata": {},
   "source": [
    "#### Other Dictionaries\n",
    "\n",
    "For your convenience, here are the other dictionaries that will be used. They are a simple translation from the tables in the graphic at the bottom of this page to dictionary, except:\n",
    "\n",
    "* the `comp_binary` is constructed in such a way as to include the `a` bit\n",
    "* the `dest_binary` is alphabetized and does not include all permutations of 2 and 3 letter combinations.\n",
    "* the `command_type` seemed a simple way to determine command type."
   ]
  },
  {
   "cell_type": "code",
   "execution_count": null,
   "metadata": {},
   "outputs": [],
   "source": [
    "comp_binary = { '0' : '0101010', '1' : '0111111', '-1' :  '0111010', 'D' :  '0001100', 'A' : '0110000', 'M' : '1110000', '!D' : '0001101', '!A' : '0110001', '!M' : '1110001', '-D' : '0001111', '-A' : '0110011', '-M' : '1110011', 'D+1' : '0011111', '1+D' : '0011111', 'A+1' : '0110111', '1+A' : '0110111', 'M+1' : '1110111', '1+M' : '1110111', 'D-1' : '0001110', 'A-1' : '0110010', 'M-1' : '1110010', 'D+A' : '0000010', 'A+D' : '0000010', 'D+M' : '1000010', 'M+D' : '1000010', 'D-A' : '0010011', 'D-M' : '1010011', 'A-D' : '0000111', 'M-D' : '1000111', 'D&A' : '0000000', 'A&D' : '0000000', 'D&M' : '1000000', 'M&D' : '1000000', 'D|A' : '0010101', 'A|D' : '0010101', 'D|M' : '1010101', 'M|D' : '1010101' }\n",
    "\n",
    "dest_binary = { 'null' : '000', 'M' : '001', 'D' : '010', 'DM' : '011','A' : '100', 'AM' : '101', 'AD' : '110', 'ADM' : '111'}\n",
    "\n",
    "jump_binary = { 'null' : '000', 'JGT' : '001', 'JEQ' : '010', 'JGE' : '011', 'JLT' : '100', 'JNE' : '101', 'JLE' : '110', 'JMP' : '111'}\n",
    "\n",
    "command_type = {'@':'A_COMMAND','(':'L_COMMAND','D':'C_COMMAND','A':'C_COMMAND','M':'C_COMMAND','0':'C_COMMAND','1','C_COMMAND','-1':'C_COMMAND',\"!\":\"C_COMMAND\",\"-\":\"C_COMMAND\"}\n",
    "\n"
   ]
  },
  {
   "cell_type": "markdown",
   "metadata": {},
   "source": [
    "### The assembler API\n",
    "\n",
    "So that we can all agree on what's to be done, and share our work, I am insisting that potions of the API defined in the book be upheld. The following provides them. Note I use `pass` to get something unimplemented to run without error. You'll need to replace that with your code."
   ]
  },
  {
   "cell_type": "code",
   "execution_count": 40,
   "metadata": {},
   "outputs": [],
   "source": [
    "def dest2bin(mnemonic):\n",
    "    # returns the binary code for the destination part of a C-instruction\n",
    "    # Note that for the above dictionary, dest_binary, you have to sort\n",
    "    # the mnemonic first. eg s = \"\" for i in sorted(mnemonic): s+=i \n",
    "    # return dest_binary[ss]\n",
    "    \n",
    "    return dest_binary[mnemonic]\n",
    "\n",
    "def comp2bin(mnemonic):\n",
    "    # returns the binary code for the comp part of a C-instruction\n",
    "    return comp_binary[mnemonic]\n",
    "\n",
    "def jump2bin(mnemonic):\n",
    "    # returns the binary code for the jump part of a C-instruction\n",
    "    return jump_binary.get(mnemonic)\n",
    "    \n",
    "def commandType(command):\n",
    "    # returns \"A_COMMAND\", \"C_COMMAND\", or \"L_COMMAND\"\n",
    "    # depending on the contents of the 'command' string\n",
    "    if command.startswith('@'):\n",
    "        return 'A_COMMAND'\n",
    "    elif command.startswith(\"(\"):\n",
    "        return \"L_COMMAND\"\n",
    "    else:\n",
    "        return \"C_COMMAND\"\n",
    "    # Alternative implementation, lookup first character in dictionary command_type\n",
    "\n",
    "def getSymbol(command):\n",
    "    # given an A_COMMAND or L_COMMAND type, returns the symbol as a string,\n",
    "    # eg (XXX) returns 'XXX'\n",
    "    # @sum returns 'sum'\n",
    "    if command.startswith(\"@\"): # A_COMMAND\n",
    "        return command[1:]\n",
    "    elif command.startswith(\"(\") and command.endswith(\")\"):\n",
    "        return command[1:-1]\n",
    "    else:\n",
    "        return 'Invalid command type'\n",
    "    \n",
    "    \n",
    "def getDest(command):\n",
    "    # return the dest mnemonic in the C-instruction 'commmand'\n",
    "    ep = command.find(\"=\")\n",
    "    if ep == -1:\n",
    "        return \"null\"\n",
    "    return command[0:ep]\n",
    "\n",
    "def getComp(command):\n",
    "    # return the comp mnemonic in the C-instruction 'commmand'\n",
    "    if commandType(command) = \"C_COMMAND\":\n",
    "        cmd = command\n",
    "        if \"=\" in cmd:\n",
    "            cmd = cmd.partition(\"=\")[2]\n",
    "        return cmd.partition(\";\")[0]\n",
    "    return \"\" #This is an error condition\n",
    "\n",
    "def getJump(command):\n",
    "    # return the jump mnemonic in the C-instruction 'commmand'\n",
    "    if ';' in command:\n",
    "        return command.split(';')[1]\n",
    "    else:\n",
    "        return 'null'\n",
    "    "
   ]
  },
  {
   "cell_type": "markdown",
   "metadata": {},
   "source": [
    "### The format mini-language\n",
    "\n",
    "Python has format command that will be very powerful for this and other assignments in this course. Essentially, you face the problem of writing a 16 bit binary number, given a decimal value. There are a number of ways of handling this, but the format command is probably the cleanest. See the following for an example, leaving the exercise of zero-padding the output string as an exercise for the student.\n"
   ]
  },
  {
   "cell_type": "code",
   "execution_count": 3,
   "metadata": {},
   "outputs": [
    {
     "name": "stdout",
     "output_type": "stream",
     "text": [
      "11010001100000\n"
     ]
    }
   ],
   "source": [
    "RAM_address = 13408\n",
    "print(format(RAM_address,'b'))\n",
    "# Above, the string 'b' creates a string representing RAM_address in\n",
    "# binary format. You should research the format command to learn how to \n",
    "# make that string 16 bits long, and to 'pad' the places that aren't \n",
    "# needed to express RAM_address with zeros."
   ]
  },
  {
   "cell_type": "markdown",
   "metadata": {},
   "source": [
    "### Additional Functions for Completion\n",
    "\n",
    "We split this assignment into two sessions. The remaining functions that are required follow."
   ]
  },
  {
   "cell_type": "code",
   "execution_count": null,
   "metadata": {},
   "outputs": [],
   "source": [
    "def processA(line,lineNo,nextRAM):\n",
    "    # Convert an A-instruction line of assmebly to a binary code that is \n",
    "    # 0 followed by a 15 bit address. Will use the symbol table to lookup\n",
    "    # a symbol and replace it with a value. If label is not is symbol table\n",
    "    # add it with correct RAM address (next in sequence)\n",
    "    # Note: mini-format langauge is helpful\n",
    "\n",
    "def processC(line):\n",
    "    # Convert a C-instruction line of code to the correct computation,destination, \n",
    "    # and jump binary codes. These should be preceded by 111, which signifies the\n",
    "    # C-instruction\n",
    "\n",
    "def processL(line,lineNo):\n",
    "    # When an L-Instruction (label in the form (LABEL)) is encountered, \n",
    "    # the label should be placed into the symbol table with the correct line\n",
    "\n",
    "def pass_1(file):\n",
    "    # scan each line of file and find L_COMMANDS\n",
    "    # place them in the symbol table with appropriate ROM numbers\n",
    "\n",
    "def pass_2(file):\n",
    "    # Scan file and write correct binary code to stdout.\n",
    "    # Hint: file.seek(0) resets the file pointer for another pass\n",
    "\n",
    "# parse sys.argv and check that it's in the format \"hasm.py file.asm\"\n",
    "# open the file and pass it off to pass_1 and pass_1\n",
    "# place any other error checking here.\n"
   ]
  },
  {
   "cell_type": "markdown",
   "metadata": {},
   "source": [
    "### Bringing it all together\n",
    "\n",
    "What's left? Well, implement all the functions specified, and then finish functions for `pass_1` and `pass_2`. Other functions will have to work on globally defined dictionaries to keep track of symbols and manage translation of binary. You'll also need to create and manage a `.hack` output file where the binary instructions are written. In addition to the functions mentioned in the API, and here, it's possible that you'll decide to write some helper functions, or even some classes. You're free to do as you like, provided the functions in the API are complete, and `pass_1` as well as `pass_2` are complete and well defined. A very important table of binary codes for various destination, computation, and jump portions of a C command appears below.\n",
    "\n",
    "![Binary codes for various destination, computation, and jump portions of a C command](binary_codes.png)"
   ]
  },
  {
   "cell_type": "code",
   "execution_count": null,
   "metadata": {},
   "outputs": [],
   "source": [
    "\n",
    "\n"
   ]
  }
 ],
 "metadata": {
  "kernelspec": {
   "display_name": "Python 3 (ipykernel)",
   "language": "python",
   "name": "python3"
  },
  "language_info": {
   "codemirror_mode": {
    "name": "ipython",
    "version": 3
   },
   "file_extension": ".py",
   "mimetype": "text/x-python",
   "name": "python",
   "nbconvert_exporter": "python",
   "pygments_lexer": "ipython3",
   "version": "3.11.0"
  }
 },
 "nbformat": 4,
 "nbformat_minor": 4
}
